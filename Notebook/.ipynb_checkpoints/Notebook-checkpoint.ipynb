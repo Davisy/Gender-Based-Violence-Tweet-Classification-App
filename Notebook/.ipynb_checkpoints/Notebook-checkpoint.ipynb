{
 "cells": [
  {
   "cell_type": "markdown",
   "id": "1eae882b",
   "metadata": {},
   "source": [
    "## Gender Based Violence - Tweet classification challenge "
   ]
  },
  {
   "cell_type": "markdown",
   "id": "03a7278b",
   "metadata": {},
   "source": [
    "This challenge aims to classify tweets about GBV without using keywords.\n",
    "\n",
    "Are you able to develop a machine learning model that can classify a tweet about gender-based violence into either of the five categories:\n",
    "- Sexual violence\n",
    "- Emotional violence\n",
    "- Economic violence\n",
    "- Physical violence\n",
    "- Harmful traditional practice\n"
   ]
  },
  {
   "cell_type": "markdown",
   "id": "cacbe91e",
   "metadata": {},
   "source": [
    "### import libraries/modules"
   ]
  },
  {
   "cell_type": "code",
   "execution_count": 1,
   "id": "70cb6041",
   "metadata": {
    "ExecuteTime": {
     "end_time": "2022-05-16T14:39:26.334344Z",
     "start_time": "2022-05-16T14:39:25.309322Z"
    }
   },
   "outputs": [],
   "source": [
    "import pandas as pd\n",
    "import numpy as np\n",
    "import seaborn as sns\n",
    "\n",
    "from sklearn.feature_extraction.text import CountVectorizer, TfidfVectorizer\n",
    "from sklearn.model_selection import train_test_split\n",
    "from sklearn.pipeline import Pipeline\n",
    "from sklearn.model_selection import StratifiedKFold\n",
    "from sklearn.metrics import accuracy_score\n",
    "from sklearn.preprocessing import LabelEncoder\n",
    "\n",
    "#import classifier algorithm here\n",
    "from sklearn.linear_model import LogisticRegression\n",
    "from sklearn.ensemble import RandomForestClassifier\n",
    "from sklearn.neighbors import KNeighborsClassifier\n",
    "from sklearn.ensemble import ExtraTreesClassifier\n",
    "from lightgbm import LGBMClassifier\n",
    "\n",
    "#oversampling\n",
    "from imblearn.over_sampling import SMOTE,ADASYN\n",
    "from imblearn.under_sampling import RandomUnderSampler \n",
    "from collections import Counter\n",
    "\n",
    "# text preprocessing modules\n",
    "from string import punctuation\n",
    " \n",
    "# text preprocessing modules\n",
    "from nltk.tokenize import word_tokenize\n",
    " \n",
    "import nltk\n",
    "from nltk.corpus import stopwords\n",
    "from nltk.stem import WordNetLemmatizer\n",
    "import re  # regular expression\n",
    "import joblib\n",
    " \n",
    "import warnings\n",
    " \n",
    "warnings.filterwarnings(\"ignore\")\n",
    "# seeding\n",
    "np.random.seed(123)\n",
    " \n",
    "# load stop words\n",
    "stop_words = stopwords.words(\"english\")"
   ]
  },
  {
   "cell_type": "markdown",
   "id": "8ee9677a",
   "metadata": {},
   "source": [
    "### load the dataset"
   ]
  },
  {
   "cell_type": "code",
   "execution_count": 2,
   "id": "e85f5498",
   "metadata": {
    "ExecuteTime": {
     "end_time": "2022-05-16T14:39:26.449540Z",
     "start_time": "2022-05-16T14:39:26.335356Z"
    }
   },
   "outputs": [],
   "source": [
    "train = pd.read_csv(\"../Data/Train.csv\")"
   ]
  },
  {
   "cell_type": "code",
   "execution_count": 3,
   "id": "a4ce6b15",
   "metadata": {
    "ExecuteTime": {
     "end_time": "2022-05-16T14:39:26.457128Z",
     "start_time": "2022-05-16T14:39:26.450807Z"
    }
   },
   "outputs": [
    {
     "data": {
      "text/html": [
       "<div><div id=d2523ef8-8c13-4bb1-9c24-6401a14d8558 style=\"display:none; background-color:#9D6CFF; color:white; width:200px; height:30px; padding-left:5px; border-radius:4px; flex-direction:row; justify-content:space-around; align-items:center;\" onmouseover=\"this.style.backgroundColor='#BA9BF8'\" onmouseout=\"this.style.backgroundColor='#9D6CFF'\" onclick=\"window.commands?.execute('create-mitosheet-from-dataframe-output');\">See Full Dataframe in Mito</div> <script> if (window.commands.hasCommand('create-mitosheet-from-dataframe-output')) document.getElementById('d2523ef8-8c13-4bb1-9c24-6401a14d8558').style.display = 'flex' </script> <table border=\"1\" class=\"dataframe\">\n",
       "  <thead>\n",
       "    <tr style=\"text-align: right;\">\n",
       "      <th></th>\n",
       "      <th>Tweet_ID</th>\n",
       "      <th>tweet</th>\n",
       "      <th>type</th>\n",
       "    </tr>\n",
       "  </thead>\n",
       "  <tbody>\n",
       "    <tr>\n",
       "      <th>0</th>\n",
       "      <td>ID_0022DWKP</td>\n",
       "      <td>Had a dream i got raped last night. By a guy i work with. Actually a guy i smoked with once at my house but he was doing too much tryna be sexual and it wasn’t even like that for me just wanted to smoke.</td>\n",
       "      <td>sexual_violence</td>\n",
       "    </tr>\n",
       "    <tr>\n",
       "      <th>1</th>\n",
       "      <td>ID_00395QYM</td>\n",
       "      <td>he thought the word raped means sex and told me “i saw our dogs raping eachother” and i was like wtf</td>\n",
       "      <td>sexual_violence</td>\n",
       "    </tr>\n",
       "    <tr>\n",
       "      <th>2</th>\n",
       "      <td>ID_003EOSSF</td>\n",
       "      <td>She NOT TALKING TO ME I WAS RAPED BY 2 MEN 1 MOLESTED HE IN JAIL ON NOTHER CHARGE SO SHE NOT SAYING WORD</td>\n",
       "      <td>sexual_violence</td>\n",
       "    </tr>\n",
       "    <tr>\n",
       "      <th>3</th>\n",
       "      <td>ID_004BBHOD</td>\n",
       "      <td>I was sexually abused for 3 years at age 4 to 7. No one believed me.  I was raped by my bro’s friend in a classroom at 13. He was 18. I told no one cause “Who would believe me?”.  My bro found out when I was 19. His friend bragged to the wrong person.  It is hard to come forward.</td>\n",
       "      <td>sexual_violence</td>\n",
       "    </tr>\n",
       "    <tr>\n",
       "      <th>4</th>\n",
       "      <td>ID_004F7516</td>\n",
       "      <td>Chessy Prout can do better by telling the truth. By not selling Owen Labrie out to hide whoever else's DNA was in her underwear. She said \"I have never said he raped me\". That changed Chessy to \"I was raped, I was violated\". White Female Privilege allowed her a platform to lie.</td>\n",
       "      <td>sexual_violence</td>\n",
       "    </tr>\n",
       "  </tbody>\n",
       "</table></div>"
      ],
      "text/plain": [
       "      Tweet_ID                                              tweet  \\\n",
       "0  ID_0022DWKP  Had a dream i got raped last night. By a guy i...   \n",
       "1  ID_00395QYM  he thought the word raped means sex and told m...   \n",
       "2  ID_003EOSSF  She NOT TALKING TO ME I WAS RAPED BY 2 MEN 1 M...   \n",
       "3  ID_004BBHOD  I was sexually abused for 3 years at age 4 to ...   \n",
       "4  ID_004F7516  Chessy Prout can do better by telling the trut...   \n",
       "\n",
       "              type  \n",
       "0  sexual_violence  \n",
       "1  sexual_violence  \n",
       "2  sexual_violence  \n",
       "3  sexual_violence  \n",
       "4  sexual_violence  "
      ]
     },
     "execution_count": 3,
     "metadata": {},
     "output_type": "execute_result"
    }
   ],
   "source": [
    "train.head()"
   ]
  },
  {
   "cell_type": "code",
   "execution_count": 4,
   "id": "e36ff9a4",
   "metadata": {
    "ExecuteTime": {
     "end_time": "2022-05-16T14:39:26.496499Z",
     "start_time": "2022-05-16T14:39:26.458191Z"
    }
   },
   "outputs": [],
   "source": [
    "test = pd.read_csv(\"../Data/Test.csv\")"
   ]
  },
  {
   "cell_type": "code",
   "execution_count": 5,
   "id": "2eabc920",
   "metadata": {
    "ExecuteTime": {
     "end_time": "2022-05-16T14:39:26.500457Z",
     "start_time": "2022-05-16T14:39:26.497458Z"
    }
   },
   "outputs": [
    {
     "data": {
      "text/html": [
       "<div><div id=4e85ba39-5408-437f-8177-03fd3acba70b style=\"display:none; background-color:#9D6CFF; color:white; width:200px; height:30px; padding-left:5px; border-radius:4px; flex-direction:row; justify-content:space-around; align-items:center;\" onmouseover=\"this.style.backgroundColor='#BA9BF8'\" onmouseout=\"this.style.backgroundColor='#9D6CFF'\" onclick=\"window.commands?.execute('create-mitosheet-from-dataframe-output');\">See Full Dataframe in Mito</div> <script> if (window.commands.hasCommand('create-mitosheet-from-dataframe-output')) document.getElementById('4e85ba39-5408-437f-8177-03fd3acba70b').style.display = 'flex' </script> <table border=\"1\" class=\"dataframe\">\n",
       "  <thead>\n",
       "    <tr style=\"text-align: right;\">\n",
       "      <th></th>\n",
       "      <th>Tweet_ID</th>\n",
       "      <th>tweet</th>\n",
       "    </tr>\n",
       "  </thead>\n",
       "  <tbody>\n",
       "    <tr>\n",
       "      <th>0</th>\n",
       "      <td>ID_0095QL4S</td>\n",
       "      <td>because he was my boyfriend, and if I said no, he would get mad at me. I hated sex after that because I forced myself to have sex with him so he wouldn’t verbally abuse me.</td>\n",
       "    </tr>\n",
       "    <tr>\n",
       "      <th>1</th>\n",
       "      <td>ID_00DREW5O</td>\n",
       "      <td>lol no, I'm telling you it's not legal. It's literally a crime. The conversation about raising the age of consent is one that needs to be had. But it doesn't change the fact that forced marriage and child marriage and FGM are illegal. The law was changed to specifically cover</td>\n",
       "    </tr>\n",
       "    <tr>\n",
       "      <th>2</th>\n",
       "      <td>ID_00E9F5X9</td>\n",
       "      <td>Somalia's semi-autonomous Puntland region has taken its first step toward banning \"in a country where almost all women &amp;amp; girls are forced to undergo the internationally condemned practice.\"</td>\n",
       "    </tr>\n",
       "    <tr>\n",
       "      <th>3</th>\n",
       "      <td>ID_00G9OSKZ</td>\n",
       "      <td>University of Cape Coast students being robbed and raped by armed robbers [videos]</td>\n",
       "    </tr>\n",
       "    <tr>\n",
       "      <th>4</th>\n",
       "      <td>ID_00HU96U6</td>\n",
       "      <td>\"Somebody came up behind him and stabbed him in the back with a really long black knife.\" Jordan White's boss tells me a stranger attacked the Restaurant Orsay server while he was out with friends in Five Points. I'm live at 5 on CBS47</td>\n",
       "    </tr>\n",
       "  </tbody>\n",
       "</table></div>"
      ],
      "text/plain": [
       "      Tweet_ID                                              tweet\n",
       "0  ID_0095QL4S  because he was my boyfriend, and if I said no,...\n",
       "1  ID_00DREW5O  lol no, I'm telling you it's not legal. It's l...\n",
       "2  ID_00E9F5X9  Somalia's semi-autonomous Puntland region has ...\n",
       "3  ID_00G9OSKZ  University of Cape Coast students being robbed...\n",
       "4  ID_00HU96U6  \"Somebody came up behind him and stabbed him i..."
      ]
     },
     "execution_count": 5,
     "metadata": {},
     "output_type": "execute_result"
    }
   ],
   "source": [
    "test.head()"
   ]
  },
  {
   "cell_type": "markdown",
   "id": "add38737",
   "metadata": {},
   "source": [
    "### EDA"
   ]
  },
  {
   "cell_type": "code",
   "execution_count": 6,
   "id": "124a550f",
   "metadata": {
    "ExecuteTime": {
     "end_time": "2022-05-16T14:39:26.504511Z",
     "start_time": "2022-05-16T14:39:26.501241Z"
    }
   },
   "outputs": [
    {
     "data": {
      "text/plain": [
       "(39650, 3)"
      ]
     },
     "execution_count": 6,
     "metadata": {},
     "output_type": "execute_result"
    }
   ],
   "source": [
    "train.shape # the training dataset has 39650 rows"
   ]
  },
  {
   "cell_type": "code",
   "execution_count": 7,
   "id": "17475bf4",
   "metadata": {
    "ExecuteTime": {
     "end_time": "2022-05-16T14:39:26.510423Z",
     "start_time": "2022-05-16T14:39:26.505327Z"
    }
   },
   "outputs": [
    {
     "data": {
      "text/plain": [
       "array(['sexual_violence', 'Physical_violence', 'emotional_violence',\n",
       "       'Harmful_Traditional_practice', 'economic_violence'], dtype=object)"
      ]
     },
     "execution_count": 7,
     "metadata": {},
     "output_type": "execute_result"
    }
   ],
   "source": [
    "train[\"type\"].unique()"
   ]
  },
  {
   "cell_type": "code",
   "execution_count": 8,
   "id": "36840eac",
   "metadata": {
    "ExecuteTime": {
     "end_time": "2022-05-16T14:39:26.608150Z",
     "start_time": "2022-05-16T14:39:26.511198Z"
    }
   },
   "outputs": [
    {
     "data": {
      "text/plain": [
       "<AxesSubplot:xlabel='type', ylabel='count'>"
      ]
     },
     "execution_count": 8,
     "metadata": {},
     "output_type": "execute_result"
    },
    {
     "data": {
      "image/png": "[encoded data removed]",
      "text/plain": [
       "<Figure size 842.4x595.44 with 1 Axes>"
      ]
     },
     "metadata": {},
     "output_type": "display_data"
    }
   ],
   "source": [
    "sns.set(rc={'figure.figsize':(11.7,8.27)})\n",
    "\n",
    "sns.countplot(train[\"type\"])"
   ]
  },
  {
   "cell_type": "markdown",
   "id": "e07cc3f7",
   "metadata": {},
   "source": [
    "This dataset is highly imbalanced; from the graphs above, sexual violence is about 80%+. "
   ]
  },
  {
   "cell_type": "code",
   "execution_count": 9,
   "id": "b056e31f",
   "metadata": {
    "ExecuteTime": {
     "end_time": "2022-05-16T14:39:26.612433Z",
     "start_time": "2022-05-16T14:39:26.610291Z"
    }
   },
   "outputs": [
    {
     "data": {
      "text/plain": [
       "(15581, 2)"
      ]
     },
     "execution_count": 9,
     "metadata": {},
     "output_type": "execute_result"
    }
   ],
   "source": [
    "test.shape # the test dataset has 15581 rows"
   ]
  },
  {
   "cell_type": "code",
   "execution_count": 10,
   "id": "2e92ec32",
   "metadata": {
    "ExecuteTime": {
     "end_time": "2022-05-16T14:39:26.616812Z",
     "start_time": "2022-05-16T14:39:26.613773Z"
    }
   },
   "outputs": [],
   "source": [
    "# clean the dataset\n",
    "\n",
    "def text_cleaning(text, remove_stop_words=True, lemmatize_words=True):\n",
    "    # Clean the text, with the option to remove stop_words and to lemmatize word\n",
    " \n",
    "    # Clean the text\n",
    "    text = re.sub(r\"[^A-Za-z0-9]\", \" \", text)\n",
    "    text = re.sub(r\"\\'s\", \" \", text)\n",
    "    text = re.sub(r\"http\\S+\", \" link \", text)\n",
    "    text = re.sub(r\"\\b\\d+(?:\\.\\d+)?\\s+\", \"\", text)  # remove numbers\n",
    "    text = text.lower()\n",
    " \n",
    "    # Remove punctuation from text\n",
    "    text = \"\".join([c for c in text if c not in punctuation])\n",
    " \n",
    "    # Optionally, remove stop words\n",
    "    if remove_stop_words:\n",
    "        text = text.split()\n",
    "        text = [w for w in text if not w in stop_words]\n",
    "        text = \" \".join(text)\n",
    " \n",
    "    # Optionally, shorten words to their stems\n",
    "    if lemmatize_words:\n",
    "        text = text.split()\n",
    "        lemmatizer = WordNetLemmatizer()\n",
    "        lemmatized_words = [lemmatizer.lemmatize(word) for word in text]\n",
    "        text = \" \".join(lemmatized_words)\n",
    " \n",
    "    # Return a list of words\n",
    "    return text"
   ]
  },
  {
   "cell_type": "code",
   "execution_count": 11,
   "id": "85c19294",
   "metadata": {
    "ExecuteTime": {
     "end_time": "2022-05-16T14:39:32.214201Z",
     "start_time": "2022-05-16T14:39:26.618437Z"
    }
   },
   "outputs": [],
   "source": [
    "train[\"tweet\"] = train[\"tweet\"].apply(text_cleaning)\n",
    "test[\"tweet\"] = test[\"tweet\"].apply(text_cleaning)"
   ]
  },
  {
   "cell_type": "code",
   "execution_count": 12,
   "id": "d73870f9",
   "metadata": {
    "ExecuteTime": {
     "end_time": "2022-05-16T14:39:32.220585Z",
     "start_time": "2022-05-16T14:39:32.215246Z"
    }
   },
   "outputs": [],
   "source": [
    "# preprocess the target \n",
    "le = LabelEncoder() \n",
    "\n",
    "train[\"type\"] = le.fit_transform(train.type.values)"
   ]
  },
  {
   "cell_type": "code",
   "execution_count": 13,
   "id": "db580f52",
   "metadata": {
    "ExecuteTime": {
     "end_time": "2022-05-16T14:39:32.222844Z",
     "start_time": "2022-05-16T14:39:32.221479Z"
    }
   },
   "outputs": [],
   "source": [
    "#split data\n",
    "X = train[\"tweet\"]\n",
    "y = train[\"type\"]"
   ]
  },
  {
   "cell_type": "code",
   "execution_count": 14,
   "id": "0b206783",
   "metadata": {
    "ExecuteTime": {
     "end_time": "2022-05-16T14:39:32.625999Z",
     "start_time": "2022-05-16T14:39:32.223550Z"
    }
   },
   "outputs": [],
   "source": [
    "#preprocess the tweets \n",
    "tfidf_vectorizer = TfidfVectorizer()\n",
    "\n",
    "X_vectorized = tfidf_vectorizer.fit_transform(X)"
   ]
  },
  {
   "cell_type": "code",
   "execution_count": 15,
   "id": "406aaf60",
   "metadata": {
    "ExecuteTime": {
     "end_time": "2022-05-16T14:39:33.603309Z",
     "start_time": "2022-05-16T14:39:32.626907Z"
    }
   },
   "outputs": [
    {
     "name": "stdout",
     "output_type": "stream",
     "text": [
      "Resampled dataset shape Counter({4: 32648, 1: 32648, 3: 32648, 0: 32648, 2: 32648})\n"
     ]
    }
   ],
   "source": [
    "# do undersampling\n",
    "\n",
    "sm = SMOTE(n_jobs=-1)\n",
    "X_res, y_res = sm.fit_resample(X_vectorized, y)\n",
    "print('Resampled dataset shape %s' % Counter(y_res))"
   ]
  },
  {
   "cell_type": "code",
   "execution_count": 16,
   "id": "a22613fa",
   "metadata": {
    "ExecuteTime": {
     "end_time": "2022-05-16T14:43:04.827306Z",
     "start_time": "2022-05-16T14:39:33.604310Z"
    },
    "scrolled": true
   },
   "outputs": [
    {
     "name": "stdout",
     "output_type": "stream",
     "text": [
      "(163240, 33485)\n",
      "Model name: LogisticRegression(n_jobs=-1)\n",
      "**************************************************\n",
      "Accuracy score:0.9991913845701473\n",
      "Accuracy score:0.9986951647584217\n",
      "Accuracy score:0.9990994799036995\n",
      "**************************************************\n",
      "Model name: RandomForestClassifier(n_jobs=-1)\n",
      "**************************************************\n",
      "Accuracy score:0.9998713566361598\n",
      "Accuracy score:0.9999081101942551\n",
      "Accuracy score:0.999981622038851\n",
      "**************************************************\n",
      "Model name: ExtraTreesClassifier(n_jobs=-1)\n",
      "**************************************************\n",
      "Accuracy score:0.9997794685191311\n",
      "Accuracy score:0.999852976310808\n",
      "Accuracy score:0.999852976310808\n",
      "**************************************************\n",
      "Model name: LGBMClassifier()\n",
      "**************************************************\n",
      "Accuracy score:0.9997794685191311\n",
      "Accuracy score:0.9998162203885101\n",
      "Accuracy score:0.9997978424273611\n",
      "**************************************************\n"
     ]
    }
   ],
   "source": [
    "# create models\n",
    "lg_model = LogisticRegression(n_jobs=-1)\n",
    "rf_model = RandomForestClassifier(n_jobs=-1)\n",
    "et_model = ExtraTreesClassifier(n_jobs=-1)\n",
    "lightgbm_model = LGBMClassifier(n_jobs=-1)\n",
    "\n",
    "model_lists = [lg_model, rf_model, et_model, lightgbm_model]\n",
    "\n",
    "print(X_res.shape)\n",
    "#fitting the models\n",
    "for model in model_lists:\n",
    "    print(\"Model name: {}\".format(model))\n",
    "    print(\"*\" * 50)\n",
    "    skf = StratifiedKFold(n_splits=3, random_state=None, shuffle=True)\n",
    "    for train_index, test_index in skf.split(X_res, y_res):\n",
    "        X_train, X_test = X_res[train_index], X_res[test_index]\n",
    "        y_train, y_test = y_res[train_index], y_res[test_index]\n",
    "\n",
    "        #train model\n",
    "        model.fit(X_train, y_train)\n",
    "        y_preds = model.predict(X_test)\n",
    "        score = accuracy_score(y_preds, y_test)\n",
    "        print(\"Accuracy score:{}\".format(score))\n",
    "    print(\"*\" * 50)"
   ]
  },
  {
   "cell_type": "code",
   "execution_count": null,
   "id": "d407a128",
   "metadata": {},
   "outputs": [],
   "source": []
  },
  {
   "cell_type": "markdown",
   "id": "920a2941",
   "metadata": {},
   "source": [
    "### submission"
   ]
  },
  {
   "cell_type": "code",
   "execution_count": 19,
   "id": "1762ca69",
   "metadata": {
    "ExecuteTime": {
     "end_time": "2022-05-15T20:14:47.417997Z",
     "start_time": "2022-05-15T20:14:47.359546Z"
    }
   },
   "outputs": [],
   "source": [
    "sample_submission = pd.read_csv(\"../Data/SampleSubmission.csv\")"
   ]
  },
  {
   "cell_type": "code",
   "execution_count": 20,
   "id": "24d694a3",
   "metadata": {
    "ExecuteTime": {
     "end_time": "2022-05-15T20:14:48.267888Z",
     "start_time": "2022-05-15T20:14:48.254394Z"
    }
   },
   "outputs": [
    {
     "data": {
      "text/html": [
       "<div><div id=244b787c-131e-4e05-b3f1-bfafbe5ac505 style=\"display:none; background-color:#9D6CFF; color:white; width:200px; height:30px; padding-left:5px; border-radius:4px; flex-direction:row; justify-content:space-around; align-items:center;\" onmouseover=\"this.style.backgroundColor='#BA9BF8'\" onmouseout=\"this.style.backgroundColor='#9D6CFF'\" onclick=\"window.commands?.execute('create-mitosheet-from-dataframe-output');\">See Full Dataframe in Mito</div> <script> if (window.commands.hasCommand('create-mitosheet-from-dataframe-output')) document.getElementById('244b787c-131e-4e05-b3f1-bfafbe5ac505').style.display = 'flex' </script> <table border=\"1\" class=\"dataframe\">\n",
       "  <thead>\n",
       "    <tr style=\"text-align: right;\">\n",
       "      <th></th>\n",
       "      <th>Tweet_ID</th>\n",
       "      <th>type</th>\n",
       "    </tr>\n",
       "  </thead>\n",
       "  <tbody>\n",
       "    <tr>\n",
       "      <th>0</th>\n",
       "      <td>ID_0095QL4S</td>\n",
       "      <td>NaN</td>\n",
       "    </tr>\n",
       "    <tr>\n",
       "      <th>1</th>\n",
       "      <td>ID_00DREW5O</td>\n",
       "      <td>NaN</td>\n",
       "    </tr>\n",
       "    <tr>\n",
       "      <th>2</th>\n",
       "      <td>ID_00E9F5X9</td>\n",
       "      <td>NaN</td>\n",
       "    </tr>\n",
       "    <tr>\n",
       "      <th>3</th>\n",
       "      <td>ID_00G9OSKZ</td>\n",
       "      <td>NaN</td>\n",
       "    </tr>\n",
       "    <tr>\n",
       "      <th>4</th>\n",
       "      <td>ID_00HU96U6</td>\n",
       "      <td>NaN</td>\n",
       "    </tr>\n",
       "  </tbody>\n",
       "</table></div>"
      ],
      "text/plain": [
       "      Tweet_ID  type\n",
       "0  ID_0095QL4S   NaN\n",
       "1  ID_00DREW5O   NaN\n",
       "2  ID_00E9F5X9   NaN\n",
       "3  ID_00G9OSKZ   NaN\n",
       "4  ID_00HU96U6   NaN"
      ]
     },
     "execution_count": 20,
     "metadata": {},
     "output_type": "execute_result"
    }
   ],
   "source": [
    "sample_submission.head()"
   ]
  },
  {
   "cell_type": "code",
   "execution_count": 38,
   "id": "cb37b9e2",
   "metadata": {
    "ExecuteTime": {
     "end_time": "2022-05-15T20:19:23.453184Z",
     "start_time": "2022-05-15T20:19:23.288051Z"
    }
   },
   "outputs": [],
   "source": [
    "\n",
    "test_predicts = lg_model.predict(tfidf_vectorizer.transform(test[\"tweet\"]))\n"
   ]
  },
  {
   "cell_type": "code",
   "execution_count": 39,
   "id": "d17c2577",
   "metadata": {
    "ExecuteTime": {
     "end_time": "2022-05-15T20:19:23.889279Z",
     "start_time": "2022-05-15T20:19:23.883359Z"
    }
   },
   "outputs": [],
   "source": [
    "\n",
    "test_predicts = le.inverse_transform(test_predicts)"
   ]
  },
  {
   "cell_type": "code",
   "execution_count": 40,
   "id": "e664946e",
   "metadata": {
    "ExecuteTime": {
     "end_time": "2022-05-15T20:19:24.655913Z",
     "start_time": "2022-05-15T20:19:24.640412Z"
    }
   },
   "outputs": [
    {
     "data": {
      "text/plain": [
       "array(['Harmful_Traditional_practice', 'Physical_violence',\n",
       "       'economic_violence', 'emotional_violence', 'sexual_violence'],\n",
       "      dtype=object)"
      ]
     },
     "execution_count": 40,
     "metadata": {},
     "output_type": "execute_result"
    }
   ],
   "source": [
    "np.unique(test_predicts)"
   ]
  },
  {
   "cell_type": "code",
   "execution_count": 41,
   "id": "b6a10291",
   "metadata": {
    "ExecuteTime": {
     "end_time": "2022-05-15T20:19:25.600919Z",
     "start_time": "2022-05-15T20:19:25.598223Z"
    }
   },
   "outputs": [],
   "source": [
    "sample_submission[\"type\"] = test_predicts"
   ]
  },
  {
   "cell_type": "code",
   "execution_count": 42,
   "id": "f2dcf941",
   "metadata": {
    "ExecuteTime": {
     "end_time": "2022-05-15T20:19:26.240748Z",
     "start_time": "2022-05-15T20:19:26.199395Z"
    }
   },
   "outputs": [],
   "source": [
    "sample_submission.to_csv('../Data/lg_submission.csv', index=False)"
   ]
  },
  {
   "cell_type": "code",
   "execution_count": 17,
   "id": "17c9a1bd",
   "metadata": {
    "ExecuteTime": {
     "end_time": "2022-05-16T14:45:30.455590Z",
     "start_time": "2022-05-16T14:45:30.348082Z"
    }
   },
   "outputs": [],
   "source": [
    "# save best model \n",
    "import joblib\n",
    "\n",
    "with open('../models/tweets_model.pkl', 'wb') as f:\n",
    "    joblib.dump(rf_model, f)"
   ]
  },
  {
   "cell_type": "code",
   "execution_count": 48,
   "id": "6cc6b29f",
   "metadata": {
    "ExecuteTime": {
     "end_time": "2022-05-15T20:24:59.096426Z",
     "start_time": "2022-05-15T20:24:58.949945Z"
    }
   },
   "outputs": [],
   "source": [
    "# save prerpocessors \n",
    "with open('../preprocessors/vectorizer.pkl', 'wb') as f:\n",
    "    joblib.dump(tfidf_vectorizer, f)\n",
    "\n",
    "with open('../preprocessors/labelEncoder.pkl', 'wb') as f:\n",
    "    joblib.dump(le, f)"
   ]
  },
  {
   "cell_type": "code",
   "execution_count": null,
   "id": "1d775852",
   "metadata": {},
   "outputs": [],
   "source": []
  }
 ],
 "metadata": {
  "hide_input": false,
  "kernelspec": {
   "display_name": "Python 3",
   "language": "python",
   "name": "python3"
  },
  "language_info": {
   "codemirror_mode": {
    "name": "ipython",
    "version": 3
   },
   "file_extension": ".py",
   "mimetype": "text/x-python",
   "name": "python",
   "nbconvert_exporter": "python",
   "pygments_lexer": "ipython3",
   "version": "3.8.8"
  }
 },
 "nbformat": 4,
 "nbformat_minor": 5
}
